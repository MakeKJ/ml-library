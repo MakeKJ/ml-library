{
 "cells": [
  {
   "cell_type": "markdown",
   "metadata": {},
   "source": [
    "This is an example usage of a fully connected neural network constructed solely with components of this machine learning library project.\n",
    " \n",
    "A neural network with plain batch gradient descent will be used to tackle the classic MNIST number classification problem. With this simple approach, a classification accuracy of 82.2% was achieved."
   ]
  },
  {
   "cell_type": "code",
   "execution_count": 1,
   "metadata": {},
   "outputs": [],
   "source": [
    "# Importing features of this machine learning library\n",
    "from nn.BaseModel import BaseModel\n",
    "from nn.layers import Linear\n",
    "from nn.activations import Sigmoid, ReLu\n",
    "from nn.loss_functions import BCE_loss\n",
    "from nn.optimizers import GDOptimizer\n",
    "from utils.preprocessing import train_test_split\n",
    "\n",
    "# Importin other libraries\n",
    "import numpy as np\n",
    "import matplotlib.pyplot as plt\n",
    "from sklearn.datasets import fetch_openml"
   ]
  },
  {
   "cell_type": "markdown",
   "metadata": {},
   "source": [
    "Defining the neural network."
   ]
  },
  {
   "cell_type": "code",
   "execution_count": 2,
   "metadata": {},
   "outputs": [],
   "source": [
    "class MLP(BaseModel):\n",
    "    def __init__(self, in_features, hidden_size1, hidden_size2, out_features):\n",
    "        super().__init__()\n",
    "\n",
    "        self.fc1 = Linear(in_features, hidden_size1)\n",
    "        self.fc2 = Linear(hidden_size1, hidden_size2)\n",
    "        self.fc3 = Linear(hidden_size2, out_features)\n",
    "        self.activation_1 = ReLu()\n",
    "        self.activation_2 = ReLu()\n",
    "        self.activation_3 = Sigmoid()\n",
    "\n",
    "        self.add_layer(self.fc1)\n",
    "        self.add_layer(self.fc2)\n",
    "        self.add_layer(self.fc3)\n",
    "        \n",
    "    def forward(self, x):\n",
    "        x = self.fc1.forward(x)\n",
    "        x = self.activation_1.forward(x)\n",
    "        \n",
    "        x = self.fc2.forward(x)\n",
    "        x = self.activation_2.forward(x)\n",
    "        \n",
    "        x = self.fc3.forward(x)\n",
    "        x = self.activation_3.forward(x)\n",
    "        return x\n",
    "\n",
    "    def backward(self, dy):\n",
    "        dx = self.fc3.backward(dy)\n",
    "        \n",
    "        dx = self.activation_2.backward(dx)\n",
    "        dx = self.fc2.backward(dx)\n",
    "        \n",
    "        dx = self.activation_1.backward(dx)\n",
    "        dx = self.fc1.backward(dx)\n",
    "        return dy"
   ]
  },
  {
   "cell_type": "markdown",
   "metadata": {},
   "source": [
    "Downloading the MNIST dataset."
   ]
  },
  {
   "cell_type": "code",
   "execution_count": 3,
   "metadata": {},
   "outputs": [],
   "source": [
    "# Download the data\n",
    "mnist = fetch_openml('mnist_784', version=1)\n",
    "X, y = mnist['data'], mnist['target']\n",
    "\n",
    "# Normalize the images (28x28) to [0, 1]\n",
    "X = X / 255\n",
    "\n",
    "# Convert the labels to integers\n",
    "y = y.astype(int)\n",
    "\n",
    "# Convert the data into numpy arrays\n",
    "X = np.array(X)\n",
    "y = np.array(y)"
   ]
  },
  {
   "cell_type": "code",
   "execution_count": 4,
   "metadata": {},
   "outputs": [],
   "source": [
    "# Convert y to target classes\n",
    "y_new = np.zeros((y.shape[0], 10))\n",
    "for i, target in enumerate(y):\n",
    "    y_new[i, target] = 1\n",
    "y = y_new"
   ]
  },
  {
   "cell_type": "code",
   "execution_count": 11,
   "metadata": {},
   "outputs": [
    {
     "name": "stdout",
     "output_type": "stream",
     "text": [
      "[0. 1. 0. 0. 0. 0. 0. 0. 0. 0.]\n"
     ]
    },
    {
     "data": {
      "text/plain": [
       "<matplotlib.image.AxesImage at 0x23916709b50>"
      ]
     },
     "execution_count": 11,
     "metadata": {},
     "output_type": "execute_result"
    },
    {
     "data": {
      "image/png": "[encoded data removed]",
      "text/plain": [
       "<Figure size 640x480 with 1 Axes>"
      ]
     },
     "metadata": {},
     "output_type": "display_data"
    }
   ],
   "source": [
    "# Sanity check\n",
    "image = 3\n",
    "x_sample = X[image].reshape(28, 28)\n",
    "y_sample = y[image]\n",
    "\n",
    "print(y_sample)\n",
    "plt.imshow(x_sample, 'gray')"
   ]
  },
  {
   "cell_type": "code",
   "execution_count": 6,
   "metadata": {},
   "outputs": [],
   "source": [
    "# Split the data into training and testing sets\n",
    "X_train, X_test, y_train, y_test = train_test_split(X, y, test_size=0.2)"
   ]
  },
  {
   "cell_type": "code",
   "execution_count": 7,
   "metadata": {},
   "outputs": [
    {
     "name": "stdout",
     "output_type": "stream",
     "text": [
      "(875, 64, 784)\n",
      "(875, 64, 10)\n"
     ]
    }
   ],
   "source": [
    "# Define the batch size and reshape the data accordingly\n",
    "batch_size = 64\n",
    "X_train = X_train.reshape(-1, batch_size, 784)\n",
    "y_train = y_train.reshape(-1, batch_size, 10)\n",
    "print(X_train.shape)\n",
    "print(y_train.shape)"
   ]
  },
  {
   "cell_type": "markdown",
   "metadata": {},
   "source": [
    "Train the neural network."
   ]
  },
  {
   "cell_type": "code",
   "execution_count": null,
   "metadata": {},
   "outputs": [],
   "source": [
    "learning_rate = 0.00005\n",
    "\n",
    "mlp = MLP(784, 258, 128, 10)\n",
    "loss_fn = BCE_loss()\n",
    "optimizer = GDOptimizer(mlp, learning_rate)\n",
    "\n",
    "# Training loop\n",
    "epochs = 150\n",
    "train_loss = []\n",
    "num_batches = X_train.shape[0]\n",
    "\n",
    "for epoch in range(epochs):\n",
    "    epoch_loss = []\n",
    "    for X_batch, y_batch in zip(X_train, y_train):\n",
    "\n",
    "        y_pred = mlp.forward(X_batch)\n",
    "        loss = loss_fn.forward(y_pred, y_batch)\n",
    "        epoch_loss.append(loss)\n",
    "\n",
    "        dy = loss_fn.backward()\n",
    "        mlp.backward(dy)\n",
    "\n",
    "        optimizer.update()\n",
    "\n",
    "    train_loss.append(sum(epoch_loss)/num_batches)\n",
    "    # print(\"Epoch\", epoch, \"loss: \", train_loss[-1])\n",
    "\n",
    "    # Early stopping, a rough cutoff value determined by observing the loss values\n",
    "    if epoch > 3 and train_loss[epoch - 3] < train_loss[epoch] or train_loss[epoch] < 0.116:\n",
    "        print(\"Early stopping\")\n",
    "        break"
   ]
  },
  {
   "cell_type": "markdown",
   "metadata": {},
   "source": [
    "Evaluating the model."
   ]
  },
  {
   "cell_type": "code",
   "execution_count": 39,
   "metadata": {},
   "outputs": [
    {
     "data": {
      "image/png": "[encoded data removed]",
      "text/plain": [
       "<Figure size 640x480 with 1 Axes>"
      ]
     },
     "metadata": {},
     "output_type": "display_data"
    }
   ],
   "source": [
    "# Plot the train loss\n",
    "plt.plot(range(len(train_loss)), train_loss)\n",
    "plt.xlabel(\"Epoch\")\n",
    "plt.ylabel(\"Train loss\")\n",
    "plt.grid(True)"
   ]
  },
  {
   "cell_type": "code",
   "execution_count": 40,
   "metadata": {},
   "outputs": [
    {
     "name": "stdout",
     "output_type": "stream",
     "text": [
      "Accuracy: 0.822\n"
     ]
    }
   ],
   "source": [
    "pred = mlp.forward(X_test)\n",
    "\n",
    "# Calculate the accuracy\n",
    "correct = 0\n",
    "for i in range(len(pred)):\n",
    "    if np.argmax(pred[i]) == np.argmax(y_test[i]):\n",
    "        correct += 1\n",
    "accuracy = correct / len(pred)\n",
    "print(\"Accuracy: %.3f\" % accuracy)"
   ]
  },
  {
   "cell_type": "markdown",
   "metadata": {},
   "source": [
    "An accuracy of 0.822 on the test set for the MNIST number classification problem was achieved."
   ]
  }
 ],
 "metadata": {
  "kernelspec": {
   "display_name": "Python 3",
   "language": "python",
   "name": "python3"
  },
  "language_info": {
   "codemirror_mode": {
    "name": "ipython",
    "version": 3
   },
   "file_extension": ".py",
   "mimetype": "text/x-python",
   "name": "python",
   "nbconvert_exporter": "python",
   "pygments_lexer": "ipython3",
   "version": "3.11.5"
  }
 },
 "nbformat": 4,
 "nbformat_minor": 2
}
