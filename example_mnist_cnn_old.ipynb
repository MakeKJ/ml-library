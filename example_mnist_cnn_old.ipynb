{
 "cells": [
  {
   "cell_type": "markdown",
   "metadata": {},
   "source": [
    "This is an example usage of a convolutional neural network constructed solely with components of this machine learning library project.\n",
    " \n",
    "A neural network with plain batch gradient descent will be used to tackle the classic MNIST number classification problem. With this approach, a classification accuracy of 95.1% was achieved on the test set."
   ]
  },
  {
   "cell_type": "code",
   "execution_count": 2,
   "metadata": {},
   "outputs": [],
   "source": [
    "# Importing features of this machine learning library\n",
    "from nn.BaseModel import BaseModel\n",
    "from nn.layers import Linear, Conv2D, MaxPool2D\n",
    "from nn.activations import Sigmoid, ReLu\n",
    "from nn.loss_functions import BCE_loss\n",
    "from nn.optimizers import GDOptimizer\n",
    "from utils.preprocessing import train_test_split\n",
    "\n",
    "# Importin other libraries\n",
    "import numpy as np\n",
    "import matplotlib.pyplot as plt\n",
    "from sklearn.datasets import fetch_openml"
   ]
  },
  {
   "cell_type": "markdown",
   "metadata": {},
   "source": [
    "Defining the convolutional neural network."
   ]
  },
  {
   "cell_type": "code",
   "execution_count": 4,
   "metadata": {},
   "outputs": [],
   "source": [
    "class CNN(BaseModel):\n",
    "    def __init__(self):\n",
    "        super().__init__()\n",
    "\n",
    "        # Defining the layers of the model\n",
    "        self.conv1 = Conv2D(1, 16, 3, 1)\n",
    "        self.relu1 = ReLu()\n",
    "        self.pool1 = MaxPool2D(2, 2)\n",
    "\n",
    "        self.conv2 = Conv2D(16, 32, 3, 2)\n",
    "        self.relu2 = ReLu()\n",
    "        self.pool2 = MaxPool2D(2, 2)\n",
    "\n",
    "        self.fc1 = Linear(3*3*32, 128)\n",
    "        self.relu3 = ReLu()\n",
    "        self.fc2 = Linear(128, 10)\n",
    "        self.sigmoid = Sigmoid()\n",
    "\n",
    "        self.add_layer(self.conv1)\n",
    "        self.add_layer(self.conv2)\n",
    "        self.add_layer(self.fc1)\n",
    "        self.add_layer(self.fc2)\n",
    "\n",
    "    def forward(self, x):\n",
    "        x = self.conv1.forward(x)\n",
    "        x = self.relu1.forward(x)\n",
    "        x = self.pool1.forward(x)\n",
    "\n",
    "        x = self.conv2.forward(x)\n",
    "        x = self.relu2.forward(x)\n",
    "        x = self.pool2.forward(x)  # dim (batch_size, 32, 3, 3)\n",
    "\n",
    "        x = x.reshape(x.shape[0], -1)\n",
    "        x = self.fc1.forward(x)\n",
    "        x = self.relu3.forward(x)\n",
    "        x = self.fc2.forward(x)\n",
    "        x = self.sigmoid.forward(x)\n",
    "        return x\n",
    "    \n",
    "    def backward(self, dy):\n",
    "        dy = self.sigmoid.backward(dy)\n",
    "        dy = self.fc2.backward(dy)\n",
    "        dy = self.relu3.backward(dy)\n",
    "        dy = self.fc1.backward(dy)\n",
    "\n",
    "        dy = dy.reshape(-1, 32, 3, 3)\n",
    "        dy = self.pool2.backward(dy)\n",
    "        dy = self.relu2.backward(dy)\n",
    "        dy = self.conv2.backward(dy)\n",
    "\n",
    "        dy = self.pool1.backward(dy)\n",
    "        dy = self.relu1.backward(dy)\n",
    "        dy = self.conv1.backward(dy)\n",
    "        return dy"
   ]
  },
  {
   "cell_type": "markdown",
   "metadata": {},
   "source": [
    "Downloading the MNIST numbers dataset."
   ]
  },
  {
   "cell_type": "code",
   "execution_count": 6,
   "metadata": {},
   "outputs": [],
   "source": [
    "# Download the data\n",
    "mnist = fetch_openml('mnist_784', version=1)\n",
    "X, y = mnist['data'], mnist['target']\n",
    "\n",
    "# Normalize the images (28x28) to [0, 1]\n",
    "X = X / 255\n",
    "\n",
    "# Convert the labels to integers\n",
    "y = y.astype(int)\n",
    "\n",
    "# Convert the data into numpy arrays\n",
    "X = np.array(X)\n",
    "y = np.array(y)"
   ]
  },
  {
   "cell_type": "code",
   "execution_count": 7,
   "metadata": {},
   "outputs": [],
   "source": [
    "# Convert y to target classes\n",
    "y_new = np.zeros((y.shape[0], 10))\n",
    "for i, target in enumerate(y):\n",
    "    y_new[i, target] = 1\n",
    "y = y_new"
   ]
  },
  {
   "cell_type": "code",
   "execution_count": 43,
   "metadata": {},
   "outputs": [
    {
     "name": "stdout",
     "output_type": "stream",
     "text": [
      "[0. 1. 0. 0. 0. 0. 0. 0. 0. 0.]\n"
     ]
    },
    {
     "data": {
      "text/plain": [
       "<matplotlib.image.AxesImage at 0x23347e44990>"
      ]
     },
     "execution_count": 43,
     "metadata": {},
     "output_type": "execute_result"
    },
    {
     "data": {
      "image/png": "[encoded data removed]",
      "text/plain": [
       "<Figure size 640x480 with 1 Axes>"
      ]
     },
     "metadata": {},
     "output_type": "display_data"
    }
   ],
   "source": [
    "# Sanity check\n",
    "image = 6\n",
    "x_sample = X[image].reshape(28, 28)\n",
    "y_sample = y[image]\n",
    "\n",
    "print(y_sample)\n",
    "plt.imshow(x_sample, 'gray')"
   ]
  },
  {
   "cell_type": "code",
   "execution_count": 10,
   "metadata": {},
   "outputs": [],
   "source": [
    "# Split the data into training and testing sets\n",
    "X_train, X_test, y_train, y_test = train_test_split(X, y, test_size=0.2)"
   ]
  },
  {
   "cell_type": "code",
   "execution_count": 11,
   "metadata": {},
   "outputs": [
    {
     "name": "stdout",
     "output_type": "stream",
     "text": [
      "(56000, 1, 28, 28) (56000, 10)\n"
     ]
    }
   ],
   "source": [
    "X_train = X_train.reshape(-1, 1, 28, 28)\n",
    "y_train = y_train.reshape(-1, 10)\n",
    "print(X_train.shape, y_train.shape)"
   ]
  },
  {
   "cell_type": "code",
   "execution_count": 21,
   "metadata": {},
   "outputs": [
    {
     "name": "stdout",
     "output_type": "stream",
     "text": [
      "(16800, 1, 28, 28) (16800, 10)\n"
     ]
    }
   ],
   "source": [
    "# Take 30 percent of the training data due to computational constraints\n",
    "X_train_reduced = X_train[:int(0.3 * X_train.shape[0])]\n",
    "y_train_reduced = y_train[:int(0.3 * y_train.shape[0])]\n",
    "print(X_train_reduced.shape, y_train_reduced.shape)"
   ]
  },
  {
   "cell_type": "markdown",
   "metadata": {},
   "source": [
    "Training the neural network."
   ]
  },
  {
   "cell_type": "code",
   "execution_count": null,
   "metadata": {},
   "outputs": [
    {
     "name": "stdout",
     "output_type": "stream",
     "text": [
      "Epoch 0 Loss 0.3328952686735569\n",
      "Epoch 1 Loss 0.2804409605584213\n",
      "Epoch 2 Loss 0.24518675584849\n",
      "Epoch 3 Loss 0.2123484582242699\n",
      "Epoch 4 Loss 0.1851173239751845\n",
      "Epoch 5 Loss 0.16416980372913922\n",
      "Epoch 6 Loss 0.14807507268216272\n",
      "Epoch 7 Loss 0.13541348955564392\n",
      "Epoch 8 Loss 0.12524485436389876\n",
      "Epoch 9 Loss 0.1169541501345887\n",
      "Epoch 10 Loss 0.11006431097623343\n",
      "Epoch 11 Loss 0.10421938739626381\n",
      "Epoch 12 Loss 0.09915874471355109\n",
      "Epoch 13 Loss 0.09472578080350993\n",
      "Epoch 14 Loss 0.09082429269796766\n",
      "Epoch 15 Loss 0.0873615925297454\n",
      "Epoch 16 Loss 0.08425991649547372\n",
      "Epoch 17 Loss 0.08144374089724021\n",
      "Epoch 18 Loss 0.07887475312994491\n",
      "Epoch 19 Loss 0.07651519081202966\n",
      "Epoch 20 Loss 0.0743309110562086\n",
      "Epoch 21 Loss 0.0723045511495174\n",
      "Epoch 22 Loss 0.07041785299004177\n",
      "Epoch 23 Loss 0.06865655335306747\n",
      "Epoch 24 Loss 0.06700631160736743\n",
      "Epoch 25 Loss 0.06545419350202736\n",
      "Epoch 26 Loss 0.06399314503310352\n",
      "Epoch 27 Loss 0.06261510439976119\n",
      "Epoch 28 Loss 0.061305943244884586\n",
      "Epoch 29 Loss 0.06006265843245749\n",
      "Epoch 30 Loss 0.05888286352692964\n",
      "Epoch 31 Loss 0.0577585761714065\n",
      "Epoch 32 Loss 0.056684187437591335\n",
      "Epoch 33 Loss 0.05566095459807759\n",
      "Epoch 34 Loss 0.05468370619486548\n",
      "Epoch 35 Loss 0.053751796898608414\n",
      "Epoch 36 Loss 0.05286342980870127\n",
      "Epoch 37 Loss 0.05201085868068035\n",
      "Epoch 38 Loss 0.05118846382686962\n",
      "Epoch 39 Loss 0.050396033653612324\n",
      "Epoch 40 Loss 0.049637722278538715\n",
      "Epoch 41 Loss 0.04890836466444046\n",
      "Epoch 42 Loss 0.04820718090044481\n",
      "Epoch 43 Loss 0.047533922454082014\n",
      "Epoch 44 Loss 0.04688493507585586\n",
      "Epoch 45 Loss 0.046259672172431036\n",
      "Epoch 46 Loss 0.045656347743850474\n",
      "Epoch 47 Loss 0.04507562748748084\n",
      "Epoch 48 Loss 0.04451448335781811\n",
      "Epoch 49 Loss 0.04397081120976267\n",
      "Epoch 50 Loss 0.04344341811858159\n",
      "Epoch 51 Loss 0.04293322360481025\n",
      "Epoch 52 Loss 0.04243860984816144\n",
      "Epoch 53 Loss 0.04195843174596803\n",
      "Epoch 54 Loss 0.04148990897080533\n",
      "Epoch 55 Loss 0.04103326046386214\n",
      "Epoch 56 Loss 0.04059042300552241\n",
      "Epoch 57 Loss 0.040162265567511186\n",
      "Epoch 58 Loss 0.03974534013767596\n",
      "Epoch 59 Loss 0.03933942121900254\n",
      "Epoch 60 Loss 0.03894398649474796\n",
      "Epoch 61 Loss 0.03855841415125331\n",
      "Epoch 62 Loss 0.03818186723426159\n",
      "Epoch 63 Loss 0.03781397638203126\n",
      "Epoch 64 Loss 0.03745421125502465\n",
      "Epoch 65 Loss 0.037101303032361574\n",
      "Epoch 66 Loss 0.03675815193945732\n",
      "Epoch 67 Loss 0.0364246402574306\n",
      "Epoch 68 Loss 0.036100651309981656\n",
      "Epoch 69 Loss 0.03578378459949147\n",
      "Epoch 70 Loss 0.035475606682859935\n",
      "Epoch 71 Loss 0.03517658411097874\n",
      "Epoch 72 Loss 0.03488394181272862\n",
      "Epoch 73 Loss 0.03459500766760102\n",
      "Epoch 74 Loss 0.03431304305759933\n",
      "Epoch 75 Loss 0.034038454552237925\n",
      "Epoch 76 Loss 0.03377092206690789\n",
      "Epoch 77 Loss 0.03350781441964194\n",
      "Epoch 78 Loss 0.033250734746946425\n",
      "Epoch 79 Loss 0.03299980552003615\n"
     ]
    }
   ],
   "source": [
    "learning_rate = 0.01\n",
    "batch_size = 64\n",
    "\n",
    "model = CNN()\n",
    "optimizer = GDOptimizer(model, learning_rate)\n",
    "loss_fn = BCE_loss()\n",
    "\n",
    "# Training\n",
    "epochs = 80\n",
    "train_loss = []\n",
    "num_batches = X_train_reduced.shape[0] // batch_size\n",
    "\n",
    "for epoch in range(epochs):\n",
    "    epoch_loss = []\n",
    "    for i in range(num_batches):\n",
    "        x_batch = X_train_reduced[i*batch_size:(i+1)*batch_size]\n",
    "        y_batch = y_train_reduced[i*batch_size:(i+1)*batch_size]\n",
    "\n",
    "        y_pred = model.forward(x_batch)\n",
    "        loss = loss_fn.forward(y_pred, y_batch)\n",
    "        epoch_loss.append(loss)\n",
    "\n",
    "        dy = loss_fn.backward()\n",
    "        model.backward(dy)\n",
    "\n",
    "        optimizer.update()\n",
    "\n",
    "    train_loss.append(np.mean(epoch_loss))\n",
    "    print(f'Epoch {epoch} Loss {train_loss[-1]}')\n"
   ]
  },
  {
   "cell_type": "markdown",
   "metadata": {},
   "source": [
    "Evaluating the model."
   ]
  },
  {
   "cell_type": "code",
   "execution_count": 34,
   "metadata": {},
   "outputs": [
    {
     "data": {
      "image/png": "[encoded data removed]",
      "text/plain": [
       "<Figure size 640x480 with 1 Axes>"
      ]
     },
     "metadata": {},
     "output_type": "display_data"
    }
   ],
   "source": [
    "# Plot the training loss\n",
    "plt.plot(train_loss)\n",
    "plt.xlabel('Epochs')\n",
    "plt.ylabel('BCE Loss')\n",
    "plt.title('Training Loss')\n",
    "plt.grid(True)\n",
    "plt.show()"
   ]
  },
  {
   "cell_type": "code",
   "execution_count": 15,
   "metadata": {},
   "outputs": [
    {
     "name": "stdout",
     "output_type": "stream",
     "text": [
      "(14000, 1, 28, 28) (14000, 10)\n"
     ]
    }
   ],
   "source": [
    "X_test = X_test.reshape(-1, 1, 28, 28)\n",
    "y_test = y_test.reshape(-1, 10)\n",
    "print(X_test.shape, y_test.shape)\n"
   ]
  },
  {
   "cell_type": "code",
   "execution_count": 37,
   "metadata": {},
   "outputs": [
    {
     "name": "stdout",
     "output_type": "stream",
     "text": [
      "Accuracy on the test set: 0.9510714285714286\n"
     ]
    }
   ],
   "source": [
    "# Accuracy on the test set\n",
    "y_pred = model.forward(X_test)\n",
    "accuracy = np.mean(np.argmax(y_pred, axis=1) == np.argmax(y_test, axis=1))\n",
    "print(f'Accuracy on the test set: {accuracy}')"
   ]
  },
  {
   "cell_type": "code",
   "execution_count": 25,
   "metadata": {},
   "outputs": [
    {
     "name": "stdout",
     "output_type": "stream",
     "text": [
      "Accuracy on the train set: 0.9601785714285714\n"
     ]
    }
   ],
   "source": [
    "# Accuracy on the train set\n",
    "y_pred_train = model.forward(X_train_reduced)\n",
    "accuracy_train = np.mean(np.argmax(y_pred_train, axis=1) == np.argmax(y_train_reduced, axis=1))\n",
    "print(f'Accuracy on the train set: {accuracy_train}')\n"
   ]
  },
  {
   "cell_type": "markdown",
   "metadata": {},
   "source": [
    "The neural network achieved an accuracy of 95.1% on the test set of the MNIST dataset."
   ]
  }
 ],
 "metadata": {
  "kernelspec": {
   "display_name": "Python 3",
   "language": "python",
   "name": "python3"
  },
  "language_info": {
   "codemirror_mode": {
    "name": "ipython",
    "version": 3
   },
   "file_extension": ".py",
   "mimetype": "text/x-python",
   "name": "python",
   "nbconvert_exporter": "python",
   "pygments_lexer": "ipython3",
   "version": "3.11.5"
  }
 },
 "nbformat": 4,
 "nbformat_minor": 2
}
