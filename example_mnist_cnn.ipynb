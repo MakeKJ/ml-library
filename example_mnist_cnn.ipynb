{
 "cells": [
  {
   "cell_type": "markdown",
   "id": "9fae4c02",
   "metadata": {},
   "source": [
    "This is an example usage of a convolutional neural network constructed solely with components of this machine learning library project.\n",
    " \n",
    "A neural network with plain batch gradient descent will be used to tackle the classic MNIST number classification problem. With this approach, a classification accuracy of 98.1% was achieved on the test set."
   ]
  },
  {
   "cell_type": "code",
   "execution_count": null,
   "id": "8bc1a5a0",
   "metadata": {},
   "outputs": [],
   "source": [
    "# Importing features of this machine learning library\n",
    "from nn.BaseModel import BaseModel\n",
    "from nn.layers import Linear, Conv2D, MaxPool2D, Dropout\n",
    "from nn.activations import ReLu\n",
    "from nn.loss_functions import CategoricalCrossEntropyLoss\n",
    "from nn.optimizers import GDOptimizer\n",
    "from utils.preprocessing import train_val_test_split\n",
    "\n",
    "# Importin other libraries\n",
    "import numpy as np\n",
    "import matplotlib.pyplot as plt\n",
    "from sklearn.datasets import fetch_openml\n",
    "import copy  # To save the best model state"
   ]
  },
  {
   "cell_type": "markdown",
   "id": "ad350b34",
   "metadata": {},
   "source": [
    "Defining the convolutional neural network."
   ]
  },
  {
   "cell_type": "code",
   "execution_count": 90,
   "id": "9b6bf1f4",
   "metadata": {},
   "outputs": [],
   "source": [
    "class CNN(BaseModel):\n",
    "    def __init__(self):\n",
    "        super().__init__()\n",
    "\n",
    "        # Defining the layers of the model\n",
    "        self.conv1 = Conv2D(1, 16, 3, 1)\n",
    "        self.relu1 = ReLu()\n",
    "        self.pool1 = MaxPool2D(2, 2)\n",
    "\n",
    "        self.conv2 = Conv2D(16, 32, 3, 1)\n",
    "        self.relu2 = ReLu()\n",
    "        self.pool2 = MaxPool2D(2, 2)\n",
    "\n",
    "        self.fc1 = Linear(32 * 5 * 5, 128)\n",
    "        self.relu3 = ReLu()\n",
    "        self.dropout = Dropout(p=0.5)\n",
    "        self.fc2 = Linear(128, 10)\n",
    "\n",
    "        self.add_layer(self.conv1)\n",
    "        self.add_layer(self.conv2)\n",
    "        self.add_layer(self.fc1)\n",
    "        self.add_layer(self.fc2)\n",
    "\n",
    "    def forward(self, x):\n",
    "        x = self.conv1.forward(x)\n",
    "        x = self.relu1.forward(x)\n",
    "        x = self.pool1.forward(x)\n",
    "\n",
    "        x = self.conv2.forward(x)\n",
    "        x = self.relu2.forward(x)\n",
    "        x = self.pool2.forward(x)\n",
    "\n",
    "        x = x.reshape(x.shape[0], -1)\n",
    "\n",
    "        x = self.fc1.forward(x)\n",
    "        x = self.relu3.forward(x)\n",
    "        x = self.dropout.forward(x)\n",
    "        x = self.fc2.forward(x)\n",
    "\n",
    "        return x\n",
    "\n",
    "    def backward(self, dy):\n",
    "        dy = self.fc2.backward(dy)\n",
    "        dy = self.dropout.backward(dy)\n",
    "        dy = self.relu3.backward(dy)\n",
    "        dy = self.fc1.backward(dy)\n",
    "\n",
    "        dy = dy.reshape(-1, 32, 5, 5)\n",
    "\n",
    "        dy = self.pool2.backward(dy)\n",
    "        dy = self.relu2.backward(dy)\n",
    "        dy = self.conv2.backward(dy)\n",
    "\n",
    "        dy = self.pool1.backward(dy)\n",
    "        dy = self.relu1.backward(dy)\n",
    "        dy = self.conv1.backward(dy)\n",
    "\n",
    "        return dy"
   ]
  },
  {
   "cell_type": "markdown",
   "id": "bb423be6",
   "metadata": {},
   "source": [
    "Downloading the MNIST numbers dataset."
   ]
  },
  {
   "cell_type": "code",
   "execution_count": 91,
   "id": "a363fef7",
   "metadata": {},
   "outputs": [],
   "source": [
    "# Download the data\n",
    "mnist = fetch_openml('mnist_784', version=1)\n",
    "X, y = mnist['data'], mnist['target']\n",
    "\n",
    "# Normalize the images (28x28) to [0, 1]\n",
    "X = X / 255\n",
    "\n",
    "# Convert the labels to integers\n",
    "y = y.astype(int)\n",
    "\n",
    "# Convert the data into numpy arrays\n",
    "X = np.array(X)\n",
    "y = np.array(y)"
   ]
  },
  {
   "cell_type": "code",
   "execution_count": 92,
   "id": "8df640d1",
   "metadata": {},
   "outputs": [],
   "source": [
    "# Convert y to target classes\n",
    "y_new = np.zeros((y.shape[0], 10))\n",
    "for i, target in enumerate(y):\n",
    "    y_new[i, target] = 1\n",
    "y = y_new"
   ]
  },
  {
   "cell_type": "code",
   "execution_count": 93,
   "id": "6abdf99a",
   "metadata": {},
   "outputs": [
    {
     "name": "stdout",
     "output_type": "stream",
     "text": [
      "[0. 1. 0. 0. 0. 0. 0. 0. 0. 0.]\n"
     ]
    },
    {
     "data": {
      "text/plain": [
       "<matplotlib.image.AxesImage at 0x1fe4c0e0310>"
      ]
     },
     "execution_count": 93,
     "metadata": {},
     "output_type": "execute_result"
    },
    {
     "data": {
      "image/png": "[encoded data removed]",
      "text/plain": [
       "<Figure size 640x480 with 1 Axes>"
      ]
     },
     "metadata": {},
     "output_type": "display_data"
    }
   ],
   "source": [
    "# Sanity check\n",
    "image = 6\n",
    "x_sample = X[image].reshape(28, 28)\n",
    "y_sample = y[image]\n",
    "\n",
    "print(y_sample)\n",
    "plt.imshow(x_sample, 'gray')"
   ]
  },
  {
   "cell_type": "code",
   "execution_count": null,
   "id": "3f968b4a",
   "metadata": {},
   "outputs": [],
   "source": [
    "# Split the data into training and testing sets\n",
    "x_train, x_val, x_test, y_train, y_val, y_test = train_val_test_split(X, y, val_size=0.15 ,test_size=0.15)"
   ]
  },
  {
   "cell_type": "code",
   "execution_count": 95,
   "id": "8984f257",
   "metadata": {},
   "outputs": [
    {
     "name": "stdout",
     "output_type": "stream",
     "text": [
      "(49000, 1, 28, 28) (49000, 10)\n",
      "(10500, 1, 28, 28) (10500, 10)\n"
     ]
    }
   ],
   "source": [
    "# Reshape the data for CNN input\n",
    "x_train = x_train.reshape(-1, 1, 28, 28)\n",
    "y_train = y_train.reshape(-1, 10)\n",
    "\n",
    "x_val = x_val.reshape(-1, 1, 28, 28)\n",
    "y_val = y_val.reshape(-1, 10)\n",
    "\n",
    "print(x_train.shape, y_train.shape)\n",
    "print(x_val.shape, y_val.shape)"
   ]
  },
  {
   "cell_type": "code",
   "execution_count": 96,
   "id": "82cb112f",
   "metadata": {},
   "outputs": [
    {
     "name": "stdout",
     "output_type": "stream",
     "text": [
      "(14700, 1, 28, 28) (14700, 10)\n",
      "(3150, 1, 28, 28) (3150, 10)\n"
     ]
    }
   ],
   "source": [
    "# Take 30 percent of the training data due to computational constraints\n",
    "x_train_reduced = x_train[:int(0.3 * x_train.shape[0])]\n",
    "y_train_reduced = y_train[:int(0.3 * y_train.shape[0])]\n",
    "\n",
    "x_val_reduced = x_val[:int(0.3 * x_val.shape[0])]\n",
    "y_val_reduced = y_val[:int(0.3 * y_val.shape[0])]\n",
    "\n",
    "print(x_train_reduced.shape, y_train_reduced.shape)\n",
    "print(x_val_reduced.shape, y_val_reduced.shape)"
   ]
  },
  {
   "cell_type": "markdown",
   "id": "923cd828",
   "metadata": {},
   "source": [
    "Training the neural network."
   ]
  },
  {
   "cell_type": "code",
   "execution_count": null,
   "id": "89e4dd30",
   "metadata": {},
   "outputs": [
    {
     "name": "stdout",
     "output_type": "stream",
     "text": [
      "Starting training...\n",
      "Epoch 1/100 - Train Loss: 1.1984 | Val Loss: 0.4859\n",
      "Epoch 2/100 - Train Loss: 0.6012 | Val Loss: 0.3367\n",
      "Epoch 3/100 - Train Loss: 0.4766 | Val Loss: 0.2890\n",
      "Epoch 4/100 - Train Loss: 0.3989 | Val Loss: 0.2475\n",
      "Epoch 5/100 - Train Loss: 0.3578 | Val Loss: 0.2257\n",
      "Epoch 6/100 - Train Loss: 0.3258 | Val Loss: 0.2136\n",
      "Epoch 7/100 - Train Loss: 0.2994 | Val Loss: 0.1934\n",
      "Epoch 8/100 - Train Loss: 0.2710 | Val Loss: 0.1817\n",
      "Epoch 9/100 - Train Loss: 0.2501 | Val Loss: 0.1671\n",
      "Epoch 10/100 - Train Loss: 0.2345 | Val Loss: 0.1440\n",
      "Epoch 11/100 - Train Loss: 0.2210 | Val Loss: 0.1410\n",
      "Epoch 12/100 - Train Loss: 0.2083 | Val Loss: 0.1311\n",
      "Epoch 13/100 - Train Loss: 0.2002 | Val Loss: 0.1235\n",
      "Epoch 14/100 - Train Loss: 0.1848 | Val Loss: 0.1167\n",
      "Epoch 15/100 - Train Loss: 0.1830 | Val Loss: 0.1128\n",
      "Epoch 16/100 - Train Loss: 0.1745 | Val Loss: 0.1119\n",
      "Epoch 17/100 - Train Loss: 0.1637 | Val Loss: 0.1082\n",
      "Epoch 18/100 - Train Loss: 0.1550 | Val Loss: 0.1053\n",
      "Epoch 19/100 - Train Loss: 0.1458 | Val Loss: 0.1011\n",
      "Epoch 20/100 - Train Loss: 0.1471 | Val Loss: 0.0966\n",
      "Epoch 21/100 - Train Loss: 0.1384 | Val Loss: 0.0939\n",
      "Epoch 22/100 - Train Loss: 0.1365 | Val Loss: 0.0930\n",
      "Epoch 23/100 - Train Loss: 0.1354 | Val Loss: 0.0901\n",
      "Epoch 24/100 - Train Loss: 0.1245 | Val Loss: 0.0872\n",
      "Epoch 25/100 - Train Loss: 0.1237 | Val Loss: 0.0861\n",
      "Epoch 26/100 - Train Loss: 0.1228 | Val Loss: 0.0860\n",
      "Epoch 27/100 - Train Loss: 0.1200 | Val Loss: 0.0838\n",
      "Epoch 28/100 - Train Loss: 0.1148 | Val Loss: 0.0811\n",
      "Epoch 29/100 - Train Loss: 0.1104 | Val Loss: 0.0785\n",
      "Epoch 30/100 - Train Loss: 0.1099 | Val Loss: 0.0835\n",
      "  -> Validation loss did not improve. Patience: 1/5\n",
      "Epoch 31/100 - Train Loss: 0.1055 | Val Loss: 0.0796\n",
      "  -> Validation loss did not improve. Patience: 2/5\n",
      "Epoch 32/100 - Train Loss: 0.1086 | Val Loss: 0.0776\n",
      "Epoch 33/100 - Train Loss: 0.1020 | Val Loss: 0.0761\n",
      "Epoch 34/100 - Train Loss: 0.0964 | Val Loss: 0.0724\n",
      "Epoch 35/100 - Train Loss: 0.1005 | Val Loss: 0.0770\n",
      "  -> Validation loss did not improve. Patience: 1/5\n",
      "Epoch 36/100 - Train Loss: 0.0953 | Val Loss: 0.0722\n",
      "Epoch 37/100 - Train Loss: 0.0948 | Val Loss: 0.0726\n",
      "  -> Validation loss did not improve. Patience: 1/5\n",
      "Epoch 38/100 - Train Loss: 0.0941 | Val Loss: 0.0750\n",
      "  -> Validation loss did not improve. Patience: 2/5\n",
      "Epoch 39/100 - Train Loss: 0.0860 | Val Loss: 0.0716\n",
      "Epoch 40/100 - Train Loss: 0.0874 | Val Loss: 0.0694\n",
      "Epoch 41/100 - Train Loss: 0.0878 | Val Loss: 0.0710\n",
      "  -> Validation loss did not improve. Patience: 1/5\n",
      "Epoch 42/100 - Train Loss: 0.0846 | Val Loss: 0.0703\n",
      "  -> Validation loss did not improve. Patience: 2/5\n",
      "Epoch 43/100 - Train Loss: 0.0820 | Val Loss: 0.0673\n",
      "Epoch 44/100 - Train Loss: 0.0833 | Val Loss: 0.0708\n",
      "  -> Validation loss did not improve. Patience: 1/5\n",
      "Epoch 45/100 - Train Loss: 0.0804 | Val Loss: 0.0669\n",
      "Epoch 46/100 - Train Loss: 0.0790 | Val Loss: 0.0651\n",
      "Epoch 47/100 - Train Loss: 0.0782 | Val Loss: 0.0652\n",
      "  -> Validation loss did not improve. Patience: 1/5\n",
      "Epoch 48/100 - Train Loss: 0.0752 | Val Loss: 0.0650\n",
      "Epoch 49/100 - Train Loss: 0.0759 | Val Loss: 0.0653\n",
      "  -> Validation loss did not improve. Patience: 1/5\n",
      "Epoch 50/100 - Train Loss: 0.0701 | Val Loss: 0.0619\n",
      "Epoch 51/100 - Train Loss: 0.0721 | Val Loss: 0.0649\n",
      "  -> Validation loss did not improve. Patience: 1/5\n",
      "Epoch 52/100 - Train Loss: 0.0698 | Val Loss: 0.0607\n",
      "Epoch 53/100 - Train Loss: 0.0723 | Val Loss: 0.0596\n",
      "Epoch 54/100 - Train Loss: 0.0700 | Val Loss: 0.0603\n",
      "  -> Validation loss did not improve. Patience: 1/5\n",
      "Epoch 55/100 - Train Loss: 0.0656 | Val Loss: 0.0624\n",
      "  -> Validation loss did not improve. Patience: 2/5\n",
      "Epoch 56/100 - Train Loss: 0.0644 | Val Loss: 0.0619\n",
      "  -> Validation loss did not improve. Patience: 3/5\n",
      "Epoch 57/100 - Train Loss: 0.0683 | Val Loss: 0.0620\n",
      "  -> Validation loss did not improve. Patience: 4/5\n",
      "Epoch 58/100 - Train Loss: 0.0663 | Val Loss: 0.0557\n",
      "Epoch 59/100 - Train Loss: 0.0644 | Val Loss: 0.0592\n",
      "  -> Validation loss did not improve. Patience: 1/5\n",
      "Epoch 60/100 - Train Loss: 0.0636 | Val Loss: 0.0590\n",
      "  -> Validation loss did not improve. Patience: 2/5\n",
      "Epoch 61/100 - Train Loss: 0.0635 | Val Loss: 0.0592\n",
      "  -> Validation loss did not improve. Patience: 3/5\n",
      "Epoch 62/100 - Train Loss: 0.0607 | Val Loss: 0.0600\n",
      "  -> Validation loss did not improve. Patience: 4/5\n",
      "Epoch 63/100 - Train Loss: 0.0582 | Val Loss: 0.0585\n",
      "  -> Validation loss did not improve. Patience: 5/5\n",
      "\n",
      "Early stop\n",
      "\n",
      "Loading model state from epoch with lowest validation loss.\n",
      "Training finished.\n"
     ]
    }
   ],
   "source": [
    "learning_rate = 0.01\n",
    "batch_size = 64\n",
    "epochs = 100\n",
    "\n",
    "# Early stop parameters\n",
    "patience = 5 \n",
    "patience_counter = 0\n",
    "best_val_loss = np.inf\n",
    "best_model_state = None\n",
    "\n",
    "# Initiate the model, loss and optimizer\n",
    "model = CNN()\n",
    "loss_fn = CategoricalCrossEntropyLoss()\n",
    "optimizer = GDOptimizer(model, learning_rate)\n",
    "\n",
    "# Data preparation\n",
    "num_train_batches = x_train_reduced.shape[0] // batch_size\n",
    "num_val_batches = x_val_reduced.shape[0] // batch_size\n",
    "\n",
    "# Training\n",
    "train_loss_history = []\n",
    "val_loss_history = []\n",
    "print(\"Starting training...\")\n",
    "\n",
    "for epoch in range(epochs):\n",
    "    model.dropout.is_training = True\n",
    "    train_epoch_loss = []\n",
    "    \n",
    "    # Shuffle training data each epoch\n",
    "    permutation = np.random.permutation(x_train_reduced.shape[0])\n",
    "    x_train_shuffled = x_train_reduced[permutation]\n",
    "    y_train_shuffled = y_train_reduced[permutation]\n",
    "\n",
    "    for i in range(num_train_batches):\n",
    "        x_batch = x_train_shuffled[i*batch_size:(i+1)*batch_size]\n",
    "        y_batch = y_train_shuffled[i*batch_size:(i+1)*batch_size]\n",
    "\n",
    "        # Forward pass\n",
    "        logits = model.forward(x_batch)\n",
    "        loss = loss_fn.forward(logits, y_batch)\n",
    "\n",
    "        train_epoch_loss.append(loss)\n",
    "\n",
    "        # Backward pass\n",
    "        dy = loss_fn.backward()\n",
    "        model.backward(dy)\n",
    "\n",
    "        # Update weights\n",
    "        optimizer.update()\n",
    "\n",
    "    average_train_loss = np.mean(train_epoch_loss)\n",
    "    train_loss_history.append(np.mean(train_epoch_loss))\n",
    "\n",
    "    # Validation phase\n",
    "    model.dropout.is_training = False # Switch to evaluation mode\n",
    "    val_epoch_loss = []\n",
    "    \n",
    "    for i in range(num_val_batches):\n",
    "        start = i * batch_size\n",
    "        end = start + batch_size\n",
    "        x_val_batch = x_val_reduced[i*batch_size:(i+1)*batch_size]\n",
    "        y_val_batch = y_val_reduced[i*batch_size:(i+1)*batch_size]\n",
    "\n",
    "        # Forward pass only\n",
    "        logits = model.forward(x_val_batch)\n",
    "        loss = loss_fn.forward(logits, y_val_batch)\n",
    "        val_epoch_loss.append(loss)\n",
    "\n",
    "    average_val_loss = np.mean(val_epoch_loss)\n",
    "    val_loss_history.append(average_val_loss)\n",
    "\n",
    "    print(f'Epoch {epoch+1}/{epochs} - Train Loss: {average_train_loss:.4f} | Val Loss: {average_val_loss:.4f}')\n",
    "\n",
    "    # Early stop check\n",
    "    if average_val_loss < best_val_loss:\n",
    "        best_val_loss = average_val_loss\n",
    "        patience_counter = 0\n",
    "        best_model_state = copy.deepcopy(model)\n",
    "    else:\n",
    "        patience_counter += 1\n",
    "        print(f'  -> Validation loss did not improve. Patience: {patience_counter}/{patience}')\n",
    "\n",
    "    if patience_counter >= patience:\n",
    "        print(\"\\nEarly stop\")\n",
    "        break\n",
    "    \n",
    "# Load the best performing model state\n",
    "if best_model_state is not None:\n",
    "    print(\"\\nLoading model state from epoch with lowest validation loss.\")\n",
    "    model = best_model_state\n",
    "\n",
    "model.dropout.is_training = False\n",
    "print(\"Training finished.\")"
   ]
  },
  {
   "cell_type": "markdown",
   "id": "1b16b808",
   "metadata": {},
   "source": [
    "Evaluating the model."
   ]
  },
  {
   "cell_type": "code",
   "execution_count": 98,
   "id": "7d0004b9",
   "metadata": {},
   "outputs": [
    {
     "data": {
      "image/png": "[encoded data removed]",
      "text/plain": [
       "<Figure size 1200x600 with 1 Axes>"
      ]
     },
     "metadata": {},
     "output_type": "display_data"
    }
   ],
   "source": [
    "# Plot the losses\n",
    "plt.figure(figsize=(12, 6))\n",
    "plt.plot(train_loss_history, label='Training Loss', color='blue')\n",
    "plt.plot(val_loss_history, label='Validation Loss', color='orange')\n",
    "plt.xlabel('Epochs')\n",
    "plt.ylabel('Loss')\n",
    "plt.legend()\n",
    "plt.grid(True)\n",
    "plt.show()"
   ]
  },
  {
   "cell_type": "code",
   "execution_count": 99,
   "id": "ab42b115",
   "metadata": {},
   "outputs": [
    {
     "name": "stdout",
     "output_type": "stream",
     "text": [
      "(10500, 1, 28, 28) (10500, 10)\n"
     ]
    }
   ],
   "source": [
    "x_test = x_test.reshape(-1, 1, 28, 28)\n",
    "y_test = y_test.reshape(-1, 10)\n",
    "print(x_test.shape, y_test.shape)"
   ]
  },
  {
   "cell_type": "code",
   "execution_count": 100,
   "id": "e3ea6714",
   "metadata": {},
   "outputs": [
    {
     "name": "stdout",
     "output_type": "stream",
     "text": [
      "Accuracy on the test set: 0.9813333333333333\n"
     ]
    }
   ],
   "source": [
    "# Accuracy on the test set\n",
    "y_pred = model.forward(x_test)\n",
    "accuracy = np.mean(np.argmax(y_pred, axis=1) == np.argmax(y_test, axis=1))\n",
    "print(f'Accuracy on the test set: {accuracy}')"
   ]
  },
  {
   "cell_type": "code",
   "execution_count": 101,
   "id": "436d4c9f",
   "metadata": {},
   "outputs": [
    {
     "name": "stdout",
     "output_type": "stream",
     "text": [
      "Accuracy on the train set: 0.9938775510204082\n"
     ]
    }
   ],
   "source": [
    "# Accuracy on the train set\n",
    "y_pred_train = model.forward(x_train_reduced)\n",
    "accuracy_train = np.mean(np.argmax(y_pred_train, axis=1) == np.argmax(y_train_reduced, axis=1))\n",
    "print(f'Accuracy on the train set: {accuracy_train}')\n"
   ]
  },
  {
   "cell_type": "markdown",
   "id": "8d0b1ed9",
   "metadata": {},
   "source": [
    "The neural network achieved an accuracy of 98.1% on the test set of the MNIST dataset."
   ]
  },
  {
   "cell_type": "markdown",
   "id": "adcbd0f4",
   "metadata": {},
   "source": [
    "Using the model."
   ]
  },
  {
   "cell_type": "code",
   "execution_count": null,
   "id": "d276a443",
   "metadata": {},
   "outputs": [],
   "source": [
    "# A helper function to convert logits to probabilities for visualization\n",
    "def softmax(z):\n",
    "    exps = np.exp(z - np.max(z)) # for numerical stability\n",
    "    return exps / np.sum(exps)"
   ]
  },
  {
   "cell_type": "code",
   "execution_count": null,
   "id": "2bd8eab0",
   "metadata": {},
   "outputs": [
    {
     "name": "stdout",
     "output_type": "stream",
     "text": [
      "--- Prediction for sample index: 30 ---\n",
      "Model Logits:     [-9.670 -1.962 -4.730 -3.106 18.406 -0.456 -2.825 3.672 -0.882 8.907]\n",
      "Probabilities:    [0.000 0.000 0.000 0.000 1.000 0.000 0.000 0.000 0.000 0.000]\n",
      "\n",
      "-------------------------------------------\n",
      "True Label:       4\n",
      "Predicted Label:  4\n",
      "-------------------------------------------\n"
     ]
    },
    {
     "data": {
      "image/png": "[encoded data removed]",
      "text/plain": [
       "<Figure size 640x480 with 1 Axes>"
      ]
     },
     "metadata": {},
     "output_type": "display_data"
    }
   ],
   "source": [
    "image_index = 30\n",
    "x_sample = x_test[image_index]\n",
    "y_sample = y_test[image_index]\n",
    "\n",
    "x_sample_batch = x_sample.reshape(1, 1, 28, 28)\n",
    "\n",
    "# Models predictions, logits\n",
    "model.dropout.is_training = False\n",
    "logits = model.forward(x_sample_batch)\n",
    "\n",
    "# Convert logits to probabilities using softmax\n",
    "probabilities = softmax(logits)\n",
    "\n",
    "predicted_label = np.argmax(logits) \n",
    "true_label = np.argmax(y_sample) # Convert one-hot vector to integer\n",
    "\n",
    "print(f\"--- Prediction for sample index: {image_index} ---\")\n",
    "\n",
    "# Print the raw logits from the model\n",
    "formatted_logits = np.array2string(logits[0], formatter={'float_kind': lambda x: f\"{x:.3f}\"})\n",
    "print(f\"Model Logits:     {formatted_logits}\")\n",
    "\n",
    "# Print the probabilities\n",
    "formatted_probs = np.array2string(probabilities[0], formatter={'float_kind': lambda x: f\"{x:.3f}\"})\n",
    "print(f\"Probabilities:    {formatted_probs}\")\n",
    "\n",
    "print(\"\\n-------------------------------------------\")\n",
    "print(f'True Label:       {true_label}')\n",
    "print(f'Predicted Label:  {predicted_label}')\n",
    "print(\"-------------------------------------------\")\n",
    "\n",
    "# Display the image\n",
    "plt.imshow(x_sample.reshape(28, 28), cmap='gray')\n",
    "plt.title(f\"True: {true_label} | Predicted: {predicted_label}\")\n",
    "plt.show()"
   ]
  }
 ],
 "metadata": {
  "kernelspec": {
   "display_name": "Python 3",
   "language": "python",
   "name": "python3"
  },
  "language_info": {
   "codemirror_mode": {
    "name": "ipython",
    "version": 3
   },
   "file_extension": ".py",
   "mimetype": "text/x-python",
   "name": "python",
   "nbconvert_exporter": "python",
   "pygments_lexer": "ipython3",
   "version": "3.11.5"
  }
 },
 "nbformat": 4,
 "nbformat_minor": 5
}
